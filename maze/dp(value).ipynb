{
 "cells": [
  {
   "attachments": {},
   "cell_type": "markdown",
   "metadata": {},
   "source": [
    "# Dynamic Planning  \n",
    "分類 : 価値反復法\n",
    "-  モデルベース  \n",
    "-  価値ベース  "
   ]
  },
  {
   "cell_type": "code",
   "execution_count": 2,
   "metadata": {},
   "outputs": [],
   "source": [
    "import numpy as np\n",
    "import matplotlib.pyplot as plt\n",
    "%matplotlib inline\n",
    "from matplotlib import animation\n",
    "from IPython.display import HTML\n",
    "\n",
    "from functions import possible_a, soft_max_policy, get_s_next #epsilon_greedy"
   ]
  },
  {
   "cell_type": "code",
   "execution_count": 3,
   "metadata": {},
   "outputs": [],
   "source": [
    "def epsilon_greedy(Q, eps=0.3):\n",
    "    pi = np.zeros_like(Q)\n",
    "    for s in range(Q.shape[0]):\n",
    "        Q_s = [Q[s,j] if possible_a[s,j]==1 else 0 for j in range(Q.shape[1])]\n",
    "        #行動が一つしかとれない場合の例外処理\n",
    "        if np.count_nonzero(possible_a[s,:] == 1) == 1:\n",
    "            pi[s, np.argmax(possible_a[s,:])] = 1\n",
    "            continue\n",
    "        #一般的な処理\n",
    "        for a in range(Q.shape[1]):\n",
    "            if possible_a[s,a] == 0:\n",
    "                continue\n",
    "            else:\n",
    "                pi[s, a] = eps / np.count_nonzero(possible_a[s,:] == 1)\n",
    "        pi[s, np.argmax(Q_s)] += 1 - eps  \n",
    "    return pi"
   ]
  },
  {
   "cell_type": "code",
   "execution_count": 4,
   "metadata": {},
   "outputs": [
    {
     "data": {
      "image/png": "[encoded data removed]",
      "text/plain": [
       "<Figure size 300x300 with 1 Axes>"
      ]
     },
     "metadata": {},
     "output_type": "display_data"
    }
   ],
   "source": [
    "#迷路作成\n",
    "fig = plt.figure(figsize=(3,3))\n",
    "\n",
    "#壁\n",
    "plt.plot([0, 3], [3, 3], color=\"k\")\n",
    "plt.plot([0, 3], [0, 0], color=\"k\")\n",
    "plt.plot([0, 0], [0, 2], color=\"k\")\n",
    "plt.plot([3, 3], [1, 3], color=\"k\")\n",
    "plt.plot([1, 1], [1, 2], color=\"k\")\n",
    "plt.plot([2, 3], [2, 2], color=\"k\")\n",
    "plt.plot([2, 1], [1, 1], color=\"k\")\n",
    "plt.plot([2, 2], [0, 1], color=\"k\")\n",
    "\n",
    "#数字\n",
    "for i in range(3):\n",
    "    for j in range(3):\n",
    "        plt.text(0.5+i, 2.5-j, str(i+j*3), size=20, ha=\"center\", va=\"center\")\n",
    "\n",
    "#円\n",
    "circle, = plt.plot([0.5], [2.5], marker=\"o\", color=\"#d3d3d3\", markersize=\"40\")\n",
    "\n",
    "#メモリと枠の非表示\n",
    "plt.tick_params(axis=\"both\", which=\"both\", bottom=\"off\", top=\"off\", labelbottom=\"off\", right=\"off\", left=\"off\", labelleft=\"off\")\n",
    "plt.box(\"off\")\n",
    "plt.gca().axes.xaxis.set_visible(False)\n",
    "plt.gca().axes.yaxis.set_visible(False)\n",
    "plt.gca().spines['right'].set_visible(False)\n",
    "plt.gca().spines['top'].set_visible(False)\n",
    "plt.gca().spines['bottom'].set_visible(False)\n",
    "plt.gca().spines['left'].set_visible(False)\n",
    "\n"
   ]
  },
  {
   "attachments": {},
   "cell_type": "markdown",
   "metadata": {},
   "source": [
    "## 環境についての情報"
   ]
  },
  {
   "cell_type": "code",
   "execution_count": 5,
   "metadata": {},
   "outputs": [],
   "source": [
    "#可能な行動のリスト\n",
    "# possible_a\n",
    "\n",
    "#状態遷移確率\n",
    "# p_t = 1\n",
    "\n",
    "#報酬関数g\n",
    "g = np.zeros((9,4))\n",
    "g[8,1] = 1 \n",
    "\n",
    "#初期状態分布 s=0から"
   ]
  },
  {
   "cell_type": "code",
   "execution_count": 6,
   "metadata": {},
   "outputs": [],
   "source": [
    "class ValueIteration:\n",
    "    def __init__(self, ganma, eps=0.1) -> None:\n",
    "        self.ganma = ganma\n",
    "        self.eps = eps\n",
    "        \n",
    "    def B_asterisk(self, Q):\n",
    "        Q_next = Q.copy()\n",
    "        for s in range(Q.shape[0]):\n",
    "            for a in range(Q.shape[1]):\n",
    "                if [s,a] == [8,1]:\n",
    "                    Q_next[s,a] = g[s,a]\n",
    "                elif not get_s_next(s,a) == None:\n",
    "                    Q_next[s,a] = g[s,a] + self.ganma * np.max(Q[get_s_next(s,a), :])\n",
    "        delta = np.sum(Q_next - Q)\n",
    "        return Q_next, delta\n",
    "    def learning_B_asterisk(self, epoch, stop_epsilon):\n",
    "        Q = np.zeros((9,4))\n",
    "        delta_l = []\n",
    "        for episode in range(epoch):\n",
    "            Q, delta = self.B_asterisk(Q=Q,)\n",
    "            delta_l.append(delta)\n",
    "            if delta < stop_epsilon:\n",
    "                break\n",
    "        return Q, delta_l\n",
    "    \n",
    "    def B_pi(self, Q, pi):\n",
    "        pi_table = pi(Q=Q)\n",
    "        Q_next = Q.copy()\n",
    "        for s in range(Q.shape[0]):\n",
    "            for a in range(Q.shape[1]):\n",
    "                if [s,a] == [8,1]:\n",
    "                    Q_next[s,a] = g[s,a]\n",
    "                elif not get_s_next(s,a) == None:\n",
    "                        Q_next[s,a] = g[s,a] + self.ganma *  np.sum(pi_table[get_s_next(s,a),:] * Q[get_s_next(s,a), :])\n",
    "        delta = np.sum(Q_next - Q)\n",
    "        return Q_next, delta\n",
    "    \n",
    "    def learning_B_pi(self, pi, epoch, stop_epsilon):\n",
    "        Q = np.zeros((9,4))\n",
    "        delta_l = []\n",
    "        for episode in range(epoch):\n",
    "            Q, delta = self.B_pi(Q=Q, pi=pi)\n",
    "            delta_l.append(delta)\n",
    "            if delta < stop_epsilon:\n",
    "                break\n",
    "        return Q, delta_l"
   ]
  },
  {
   "cell_type": "code",
   "execution_count": null,
   "metadata": {},
   "outputs": [],
   "source": []
  },
  {
   "cell_type": "code",
   "execution_count": 7,
   "metadata": {},
   "outputs": [],
   "source": [
    "# vi = ValueIteration(ganma=0.9, eps=0.1)\n",
    "\n",
    "# Q_pi, delta_pi = vi.learning_B_pi(pi=epsilon_greedy, epoch=1000, stop_epsilon=10e-3)\n",
    "# Q_asterisk, delta_asterisk = vi.learning_B_asterisk(pi=epsilon_greedy, epoch=1000, stop_epsilon=10e-3)"
   ]
  },
  {
   "cell_type": "code",
   "execution_count": 8,
   "metadata": {},
   "outputs": [],
   "source": [
    "def B_pi(Q, pi, ganma=0.9):\n",
    "    pi_table = pi(Q=Q)\n",
    "    Q_next = Q.copy()\n",
    "    for s in range(Q.shape[0]):\n",
    "        for a in range(Q.shape[1]):\n",
    "            if [s,a] == [8,1]:\n",
    "                Q_next[s,a] = g[s,a]\n",
    "            elif not get_s_next(s,a) == None:\n",
    "                    Q_next[s,a] = g[s,a] + ganma *  np.sum(pi_table[get_s_next(s,a),:] * Q[get_s_next(s,a), :])\n",
    "    delta = np.sum(Q_next - Q)\n",
    "    return Q_next, delta"
   ]
  },
  {
   "cell_type": "code",
   "execution_count": 9,
   "metadata": {},
   "outputs": [],
   "source": [
    "def B_asterisk(Q, ganma=0.9):\n",
    "    Q_next = Q.copy()\n",
    "    for s in range(Q.shape[0]):\n",
    "        for a in range(Q.shape[1]):\n",
    "            if [s,a] == [8,1]:\n",
    "                Q_next[s,a] = g[s,a]\n",
    "            elif not get_s_next(s,a) == None:\n",
    "                Q_next[s,a] = g[s,a] + ganma * np.max(Q[get_s_next(s,a), :])\n",
    "    delta = np.sum(Q_next - Q)\n",
    "    return Q_next, delta"
   ]
  },
  {
   "cell_type": "code",
   "execution_count": 10,
   "metadata": {},
   "outputs": [],
   "source": [
    "def learning_B_asterisk(ganma=0.9, epoch=1000, stop_epsilon=10e-3, pi=None):\n",
    "    Q = np.zeros((9,4))\n",
    "    delta_l = []\n",
    "    for episode in range(epoch):\n",
    "        Q, delta = B_asterisk(Q=Q,)\n",
    "        delta_l.append(delta)\n",
    "        if delta < stop_epsilon:\n",
    "            break\n",
    "    return Q, delta_l\n",
    "\n",
    "def learning_B_pi(ganma=0.9, epoch=1000, stop_epsilon=10e-3, pi=None):\n",
    "    Q = np.zeros((9,4))\n",
    "    delta_l = []\n",
    "    for episode in range(epoch):\n",
    "        Q, delta = B_pi(Q=Q, pi=pi)\n",
    "        delta_l.append(delta)\n",
    "        if delta < stop_epsilon:\n",
    "            break\n",
    "    return Q, delta_l"
   ]
  },
  {
   "cell_type": "code",
   "execution_count": 11,
   "metadata": {},
   "outputs": [],
   "source": [
    "#最終的な方策\n",
    "def pi_d(pi):\n",
    "    pi_d = np.zeros(pi.shape[0])\n",
    "    for s in range(pi.shape[0]):\n",
    "        pi_s = pi[s, :]\n",
    "        pi_d[s] = np.argmax(pi_s)\n",
    "    return pi_d"
   ]
  },
  {
   "cell_type": "code",
   "execution_count": 12,
   "metadata": {},
   "outputs": [
    {
     "ename": "IndexError",
     "evalue": "index 9 is out of bounds for axis 0 with size 9",
     "output_type": "error",
     "traceback": [
      "\u001b[0;31m---------------------------------------------------------------------------\u001b[0m",
      "\u001b[0;31mIndexError\u001b[0m                                Traceback (most recent call last)",
      "\u001b[1;32m/Users/hirosetakumi/Desktop/RL/maze/dp(value).ipynb Cell 14\u001b[0m in \u001b[0;36m<cell line: 1>\u001b[0;34m()\u001b[0m\n\u001b[0;32m----> <a href='vscode-notebook-cell:/Users/hirosetakumi/Desktop/RL/maze/dp%28value%29.ipynb#X21sZmlsZQ%3D%3D?line=0'>1</a>\u001b[0m Q_pi, pi_delta \u001b[39m=\u001b[39m learning_B_pi(B_pi, pi\u001b[39m=\u001b[39;49mepsilon_greedy, stop_epsilon\u001b[39m=\u001b[39;49m\u001b[39m10e-5\u001b[39;49m)\n\u001b[1;32m      <a href='vscode-notebook-cell:/Users/hirosetakumi/Desktop/RL/maze/dp%28value%29.ipynb#X21sZmlsZQ%3D%3D?line=1'>2</a>\u001b[0m Q_asterisk, as_delta \u001b[39m=\u001b[39m learning_B_asterisk(B_asterisk, stop_epsilon\u001b[39m=\u001b[39m\u001b[39m10e-5\u001b[39m)\n",
      "\u001b[1;32m/Users/hirosetakumi/Desktop/RL/maze/dp(value).ipynb Cell 14\u001b[0m in \u001b[0;36mlearning_B_pi\u001b[0;34m(ganma, epoch, stop_epsilon, pi)\u001b[0m\n\u001b[1;32m     <a href='vscode-notebook-cell:/Users/hirosetakumi/Desktop/RL/maze/dp%28value%29.ipynb#X21sZmlsZQ%3D%3D?line=12'>13</a>\u001b[0m delta_l \u001b[39m=\u001b[39m []\n\u001b[1;32m     <a href='vscode-notebook-cell:/Users/hirosetakumi/Desktop/RL/maze/dp%28value%29.ipynb#X21sZmlsZQ%3D%3D?line=13'>14</a>\u001b[0m \u001b[39mfor\u001b[39;00m episode \u001b[39min\u001b[39;00m \u001b[39mrange\u001b[39m(epoch):\n\u001b[0;32m---> <a href='vscode-notebook-cell:/Users/hirosetakumi/Desktop/RL/maze/dp%28value%29.ipynb#X21sZmlsZQ%3D%3D?line=14'>15</a>\u001b[0m     Q, delta \u001b[39m=\u001b[39m B_pi(Q\u001b[39m=\u001b[39;49mQ, pi\u001b[39m=\u001b[39;49mpi)\n\u001b[1;32m     <a href='vscode-notebook-cell:/Users/hirosetakumi/Desktop/RL/maze/dp%28value%29.ipynb#X21sZmlsZQ%3D%3D?line=15'>16</a>\u001b[0m     delta_l\u001b[39m.\u001b[39mappend(delta)\n\u001b[1;32m     <a href='vscode-notebook-cell:/Users/hirosetakumi/Desktop/RL/maze/dp%28value%29.ipynb#X21sZmlsZQ%3D%3D?line=16'>17</a>\u001b[0m     \u001b[39mif\u001b[39;00m delta \u001b[39m<\u001b[39m stop_epsilon:\n",
      "\u001b[1;32m/Users/hirosetakumi/Desktop/RL/maze/dp(value).ipynb Cell 14\u001b[0m in \u001b[0;36mB_pi\u001b[0;34m(Q, pi, ganma)\u001b[0m\n\u001b[1;32m      <a href='vscode-notebook-cell:/Users/hirosetakumi/Desktop/RL/maze/dp%28value%29.ipynb#X21sZmlsZQ%3D%3D?line=6'>7</a>\u001b[0m             Q_next[s,a] \u001b[39m=\u001b[39m g[s,a]\n\u001b[1;32m      <a href='vscode-notebook-cell:/Users/hirosetakumi/Desktop/RL/maze/dp%28value%29.ipynb#X21sZmlsZQ%3D%3D?line=7'>8</a>\u001b[0m         \u001b[39melif\u001b[39;00m \u001b[39mnot\u001b[39;00m get_s_next(s,a) \u001b[39m==\u001b[39m \u001b[39mNone\u001b[39;00m:\n\u001b[0;32m----> <a href='vscode-notebook-cell:/Users/hirosetakumi/Desktop/RL/maze/dp%28value%29.ipynb#X21sZmlsZQ%3D%3D?line=8'>9</a>\u001b[0m                 Q_next[s,a] \u001b[39m=\u001b[39m g[s,a] \u001b[39m+\u001b[39m ganma \u001b[39m*\u001b[39m  np\u001b[39m.\u001b[39msum(pi_table[get_s_next(s,a),:] \u001b[39m*\u001b[39m Q[get_s_next(s,a), :])\n\u001b[1;32m     <a href='vscode-notebook-cell:/Users/hirosetakumi/Desktop/RL/maze/dp%28value%29.ipynb#X21sZmlsZQ%3D%3D?line=9'>10</a>\u001b[0m delta \u001b[39m=\u001b[39m np\u001b[39m.\u001b[39msum(Q_next \u001b[39m-\u001b[39m Q)\n\u001b[1;32m     <a href='vscode-notebook-cell:/Users/hirosetakumi/Desktop/RL/maze/dp%28value%29.ipynb#X21sZmlsZQ%3D%3D?line=10'>11</a>\u001b[0m \u001b[39mreturn\u001b[39;00m Q_next, delta\n",
      "\u001b[0;31mIndexError\u001b[0m: index 9 is out of bounds for axis 0 with size 9"
     ]
    }
   ],
   "source": [
    "Q_pi, pi_delta = learning_B_pi(B_pi, pi=epsilon_greedy, stop_epsilon=10e-5)\n",
    "Q_asterisk, as_delta = learning_B_asterisk(B_asterisk, stop_epsilon=10e-5)"
   ]
  },
  {
   "cell_type": "code",
   "execution_count": null,
   "metadata": {},
   "outputs": [
    {
     "name": "stdout",
     "output_type": "stream",
     "text": [
      "Q_pi\n",
      "[[0.         0.62717874 0.49757892 0.        ]\n",
      " [0.         0.56446037 0.70653106 0.55862802]\n",
      " [0.         0.         0.         0.62717874]\n",
      " [0.55862802 0.         0.44337678 0.        ]\n",
      " [0.62717874 0.79334276 0.         0.        ]\n",
      " [0.         0.         0.89070042 0.70653106]\n",
      " [0.49757892 0.3990391  0.         0.        ]\n",
      " [0.         0.         0.         0.44337678]\n",
      " [0.79334276 1.         0.         0.        ]]\n",
      "[1. 2. 3. 0. 1. 2. 0. 3. 1.]\n",
      "\n",
      "Q_asterisk\n",
      "[[0.         0.6561     0.531441   0.        ]\n",
      " [0.         0.59049    0.729      0.59049   ]\n",
      " [0.         0.         0.         0.6561    ]\n",
      " [0.59049    0.         0.4782969  0.        ]\n",
      " [0.6561     0.81       0.         0.        ]\n",
      " [0.         0.         0.9        0.729     ]\n",
      " [0.531441   0.43046721 0.         0.        ]\n",
      " [0.         0.         0.         0.4782969 ]\n",
      " [0.81       1.         0.         0.        ]]\n",
      "[1. 2. 3. 0. 1. 2. 0. 3. 1.]\n",
      "\n",
      "answer \n",
      "[1, 2, 3, 0, 1, 2, 0, 3, 1]\n"
     ]
    }
   ],
   "source": [
    "pi_d1 = pi_d(Q_pi)\n",
    "pi_d2 = pi_d(Q_asterisk)\n",
    "\n",
    "print(\"Q_pi\")\n",
    "print(Q_pi)\n",
    "print(pi_d1)\n",
    "\n",
    "print()\n",
    "print(\"Q_asterisk\")\n",
    "print(Q_asterisk)\n",
    "print(pi_d2)\n",
    "\n",
    "print()\n",
    "print(f\"answer \\n[1, 2, 3, 0, 1, 2, 0, 3, 1]\")"
   ]
  },
  {
   "attachments": {},
   "cell_type": "markdown",
   "metadata": {},
   "source": [
    "- 終了処理、一つしか行動がとれないときの例外処理を忘れていたためエラーが多かった\n",
    "- epsilonが0.1だと状態７に到達しなかったが、0.3にすると７も訪問し、最適解を導けていた。\n",
    "- B*の方が安定している\n",
    "- B_piは収束は早いが、局所解に陥ることがある！"
   ]
  },
  {
   "cell_type": "code",
   "execution_count": null,
   "metadata": {},
   "outputs": [
    {
     "data": {
      "image/png": "[encoded data removed]",
      "text/plain": [
       "<Figure size 640x480 with 1 Axes>"
      ]
     },
     "metadata": {},
     "output_type": "display_data"
    }
   ],
   "source": [
    "graph = plt.figure()\n",
    "\n",
    "\n",
    "x = np.arange(len(pi_delta))\n",
    "g1 = graph.add_subplot(1, 3, 1)\n",
    "g1.plot(x, pi_delta, label=\"ε-greedy\")\n",
    "x = np.arange(len(as_delta))\n",
    "g1.plot(x, as_delta, label=\"B_asterisk\")\n",
    "g1.set_title(\"delta\")\n",
    "g1.legend()\n",
    "\n",
    "plt.savefig(\"./result/graph2.png\")\n",
    "plt.show()\n"
   ]
  },
  {
   "cell_type": "code",
   "execution_count": null,
   "metadata": {},
   "outputs": [
    {
     "data": {
      "text/plain": [
       "' def animate(i):\\n    state = s_a_history[i][0]\\n    circle.set_data((state % 3) + 0.5, 2.5 - int(state/3))\\n    return circle\\n\\nanim = animation.FuncAnimation(fig, animate, frames=len(s_a_history), interval=200, repeat=False)\\nHTML(anim.to_jshtml()) '"
      ]
     },
     "execution_count": 364,
     "metadata": {},
     "output_type": "execute_result"
    }
   ],
   "source": [
    "\"\"\" def animate(i):\n",
    "    state = s_a_history[i][0]\n",
    "    circle.set_data((state % 3) + 0.5, 2.5 - int(state/3))\n",
    "    return circle\n",
    "\n",
    "anim = animation.FuncAnimation(fig, animate, frames=len(s_a_history), interval=200, repeat=False)\n",
    "HTML(anim.to_jshtml()) \"\"\""
   ]
  }
 ],
 "metadata": {
  "kernelspec": {
   "display_name": "RL",
   "language": "python",
   "name": "python3"
  },
  "language_info": {
   "codemirror_mode": {
    "name": "ipython",
    "version": 3
   },
   "file_extension": ".py",
   "mimetype": "text/x-python",
   "name": "python",
   "nbconvert_exporter": "python",
   "pygments_lexer": "ipython3",
   "version": "3.8.13"
  },
  "orig_nbformat": 4,
  "vscode": {
   "interpreter": {
    "hash": "5e0cd232766bcc2013268e70715934c0390d4dcfe27e94207bf74905997cc1d6"
   }
  }
 },
 "nbformat": 4,
 "nbformat_minor": 2
}
