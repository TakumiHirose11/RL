{
 "cells": [
  {
   "cell_type": "code",
   "execution_count": 3,
   "metadata": {},
   "outputs": [
    {
     "name": "stderr",
     "output_type": "stream",
     "text": [
      "/Users/hirosetakumi/miniforge3/envs/RL/lib/python3.8/site-packages/gym/envs/classic_control/cartpole.py:211: UserWarning: \u001b[33mWARN: You are calling render method without specifying any render mode. You can specify the render_mode at initialization, e.g. gym(\"CartPole-v1\", render_mode=\"rgb_array\")\u001b[0m\n",
      "  gym.logger.warn(\n"
     ]
    },
    {
     "ename": "ValueError",
     "evalue": "too many values to unpack (expected 4)",
     "output_type": "error",
     "traceback": [
      "\u001b[0;31m---------------------------------------------------------------------------\u001b[0m",
      "\u001b[0;31mValueError\u001b[0m                                Traceback (most recent call last)",
      "\u001b[1;32m/Users/hirosetakumi/Desktop/RL/cartpole/cartpole.ipynb Cell 1\u001b[0m in \u001b[0;36m<cell line: 5>\u001b[0;34m()\u001b[0m\n\u001b[1;32m      <a href='vscode-notebook-cell:/Users/hirosetakumi/Desktop/RL/cartpole/cartpole.ipynb#W0sZmlsZQ%3D%3D?line=7'>8</a>\u001b[0m env\u001b[39m.\u001b[39mrender()  \u001b[39m# render game screen\u001b[39;00m\n\u001b[1;32m      <a href='vscode-notebook-cell:/Users/hirosetakumi/Desktop/RL/cartpole/cartpole.ipynb#W0sZmlsZQ%3D%3D?line=8'>9</a>\u001b[0m action \u001b[39m=\u001b[39m env\u001b[39m.\u001b[39maction_space\u001b[39m.\u001b[39msample()  \u001b[39m# this is random action. replace here to your algorithm!\u001b[39;00m\n\u001b[0;32m---> <a href='vscode-notebook-cell:/Users/hirosetakumi/Desktop/RL/cartpole/cartpole.ipynb#W0sZmlsZQ%3D%3D?line=9'>10</a>\u001b[0m observation, reward, done, info \u001b[39m=\u001b[39m env\u001b[39m.\u001b[39mstep(action)  \u001b[39m# get reward and next scene\u001b[39;00m\n\u001b[1;32m     <a href='vscode-notebook-cell:/Users/hirosetakumi/Desktop/RL/cartpole/cartpole.ipynb#W0sZmlsZQ%3D%3D?line=10'>11</a>\u001b[0m \u001b[39mif\u001b[39;00m done:\n\u001b[1;32m     <a href='vscode-notebook-cell:/Users/hirosetakumi/Desktop/RL/cartpole/cartpole.ipynb#W0sZmlsZQ%3D%3D?line=11'>12</a>\u001b[0m     \u001b[39mprint\u001b[39m(\u001b[39m\"\u001b[39m\u001b[39mEpisode finished after \u001b[39m\u001b[39m{}\u001b[39;00m\u001b[39m timesteps\u001b[39m\u001b[39m\"\u001b[39m\u001b[39m.\u001b[39mformat(t\u001b[39m+\u001b[39m\u001b[39m1\u001b[39m))\n",
      "\u001b[0;31mValueError\u001b[0m: too many values to unpack (expected 4)"
     ]
    }
   ],
   "source": [
    "import gym\n",
    "\n",
    "env = gym.make('CartPole-v1')  # make your environment!\n",
    "\n",
    "for i_episode in range(20):\n",
    "    observation = env.reset()\n",
    "    for t in range(100):\n",
    "        env.render()  # render game screen\n",
    "        action = env.action_space.sample()  # this is random action. replace here to your algorithm!\n",
    "        observation, reward, done, info = env.step(action)  # get reward and next scene\n",
    "        if done:\n",
    "            print(\"Episode finished after {} timesteps\".format(t+1))\n",
    "            break"
   ]
  }
 ],
 "metadata": {
  "kernelspec": {
   "display_name": "RL",
   "language": "python",
   "name": "python3"
  },
  "language_info": {
   "codemirror_mode": {
    "name": "ipython",
    "version": 3
   },
   "file_extension": ".py",
   "mimetype": "text/x-python",
   "name": "python",
   "nbconvert_exporter": "python",
   "pygments_lexer": "ipython3",
   "version": "3.8.13 (default, Mar 28 2022, 06:13:39) \n[Clang 12.0.0 ]"
  },
  "orig_nbformat": 4,
  "vscode": {
   "interpreter": {
    "hash": "5e0cd232766bcc2013268e70715934c0390d4dcfe27e94207bf74905997cc1d6"
   }
  }
 },
 "nbformat": 4,
 "nbformat_minor": 2
}
